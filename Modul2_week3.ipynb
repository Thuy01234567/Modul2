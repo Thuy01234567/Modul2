{
  "nbformat": 4,
  "nbformat_minor": 0,
  "metadata": {
    "colab": {
      "provenance": [],
      "authorship_tag": "ABX9TyOrhWhtwZHM6bw35i54AFrH",
      "include_colab_link": true
    },
    "kernelspec": {
      "name": "python3",
      "display_name": "Python 3"
    },
    "language_info": {
      "name": "python"
    }
  },
  "cells": [
    {
      "cell_type": "markdown",
      "metadata": {
        "id": "view-in-github",
        "colab_type": "text"
      },
      "source": [
        "<a href=\"https://colab.research.google.com/github/Thuy01234567/Modul2/blob/main/Modul2_week3.ipynb\" target=\"_parent\"><img src=\"https://colab.research.google.com/assets/colab-badge.svg\" alt=\"Open In Colab\"/></a>"
      ]
    },
    {
      "cell_type": "code",
      "execution_count": 12,
      "metadata": {
        "colab": {
          "base_uri": "https://localhost:8080/"
        },
        "id": "zffycgroi6DO",
        "outputId": "943e6944-d268-45c6-cc29-e88ccf0df31a"
      },
      "outputs": [
        {
          "output_type": "stream",
          "name": "stdout",
          "text": [
            "3.733333333333333\n",
            "0.1722222222222222\n"
          ]
        }
      ],
      "source": [
        "import numpy as np\n",
        "a = np.array([3.0, 3.8, 4.1, 3.9, 4.2, 3.4])\n",
        "print(np.mean(a))\n",
        "print(np.var(a))\n"
      ]
    },
    {
      "cell_type": "code",
      "source": [
        "# Create data\n",
        "# ########################\n",
        "import numpy as np\n",
        "\n",
        "def create_train_data():\n",
        "  # your code here ************************\n",
        "  data =[\n",
        "      ['Sunny','Hot','High','Weak','no'],\n",
        "      ['Sunny','Hot','High','Strong','no'],\n",
        "      ['Overcast','Hot','High','Weak','yes'],\n",
        "      ['Rain','Mild','High','Weak','yes'],\n",
        "      ['Rain','Cool','Normal','Weak','yes'],\n",
        "      ['Rain','Cool','Normal','Strong','no'],\n",
        "      ['Overcast','Cool','Normal','Strong','yes'],\n",
        "      ['Overcast','Mild','High','Weak','no'],\n",
        "      ['Sunny','Cool','Normal','Weak','yes'],\n",
        "      ['Rain','Mild','Normal','Weak','yes']\n",
        "  ]\n",
        "\n",
        "  return np.array(data)\n",
        "\n",
        "train_data = create_train_data()\n",
        "print(train_data)\n",
        "\n",
        "\n",
        "\n"
      ],
      "metadata": {
        "id": "5rQggoyLoZI8",
        "colab": {
          "base_uri": "https://localhost:8080/"
        },
        "outputId": "096b57ec-0ac8-4294-ec73-1b03872aca53"
      },
      "execution_count": 3,
      "outputs": [
        {
          "output_type": "stream",
          "name": "stdout",
          "text": [
            "[['Sunny' 'Hot' 'High' 'Weak' 'no']\n",
            " ['Sunny' 'Hot' 'High' 'Strong' 'no']\n",
            " ['Overcast' 'Hot' 'High' 'Weak' 'yes']\n",
            " ['Rain' 'Mild' 'High' 'Weak' 'yes']\n",
            " ['Rain' 'Cool' 'Normal' 'Weak' 'yes']\n",
            " ['Rain' 'Cool' 'Normal' 'Strong' 'no']\n",
            " ['Overcast' 'Cool' 'Normal' 'Strong' 'yes']\n",
            " ['Overcast' 'Mild' 'High' 'Weak' 'no']\n",
            " ['Sunny' 'Cool' 'Normal' 'Weak' 'yes']\n",
            " ['Rain' 'Mild' 'Normal' 'Weak' 'yes']]\n"
          ]
        }
      ]
    },
    {
      "cell_type": "code",
      "source": [
        "def compute_prior_probablity(train_data):\n",
        "  y_unique = ['no', 'yes']\n",
        "  prior_probability = np.zeros(len(y_unique))\n",
        "  # Access the last column of train_data for comparison\n",
        "  total_count = len(train_data)\n",
        "  count_no = sum(1 for data in train_data[:, -1] if data == 'no') # Access the last column using [:, -1]\n",
        "  count_yes = sum(1 for data in train_data[:, -1] if data == 'yes') # Access the last column using [:, -1]\n",
        "\n",
        "  prior_probability[0] = count_no/total_count\n",
        "  prior_probability[1] = count_yes/total_count\n",
        "  return prior_probability\n",
        "\n",
        "prior_probablity = compute_prior_probablity(train_data)\n",
        "print (\"P(play tennis = No\", prior_probablity [0])\n",
        "print (\"P(play tennis = Yes\", prior_probablity [1])"
      ],
      "metadata": {
        "colab": {
          "base_uri": "https://localhost:8080/"
        },
        "id": "nx4FcIpgRl30",
        "outputId": "9762863e-c3f8-426d-c193-660c0c4a02fd"
      },
      "execution_count": 4,
      "outputs": [
        {
          "output_type": "stream",
          "name": "stdout",
          "text": [
            "P(play tennis = No 0.4\n",
            "P(play tennis = Yes 0.6\n"
          ]
        }
      ]
    },
    {
      "cell_type": "code",
      "source": [
        "def compute_conditional_probability(train_data):\n",
        "  y_unique = ['no', 'yes']\n",
        "  conditional_probability = []\n",
        "  list_x_name = []\n",
        "  for i in range(0, train_data.shape[1] -1):\n",
        "    x_unique = np.unique(train_data[:, i])\n",
        "    list_x_name.append (x_unique)\n",
        "    # your code here ********************\n",
        "    x_conditional_probability = {}\n",
        "    for x in x_unique:\n",
        "      x_conditional_probability[x] = {}\n",
        "      for y in y_unique:\n",
        "        count_xy = np.sum((train_data[:, i] == x) & (train_data[:, -1] == y))\n",
        "        count_y = np.sum(train_data[:, -1] == y)\n",
        "        x_conditional_probability[x][y] = count_xy / count_y if count_y > 0 else 0\n",
        "    conditional_probability.append(x_conditional_probability)\n",
        "  return conditional_probability, list_x_name\n",
        "\n",
        "train_data = create_train_data()\n",
        "_ , list_x_name = compute_conditional_probability(train_data )\n",
        "print (\"x1 = \", list_x_name [0])\n",
        "print (\"x2 = \", list_x_name [1])\n",
        "print (\"x3 = \", list_x_name [2])\n",
        "print (\"x4 = \", list_x_name [3])"
      ],
      "metadata": {
        "colab": {
          "base_uri": "https://localhost:8080/"
        },
        "id": "LMcQjQShV9qd",
        "outputId": "93cc846f-4789-4187-96d9-f41f1c199e89"
      },
      "execution_count": 5,
      "outputs": [
        {
          "output_type": "stream",
          "name": "stdout",
          "text": [
            "x1 =  ['Overcast' 'Rain' 'Sunny']\n",
            "x2 =  ['Cool' 'Hot' 'Mild']\n",
            "x3 =  ['High' 'Normal']\n",
            "x4 =  ['Strong' 'Weak']\n"
          ]
        }
      ]
    },
    {
      "cell_type": "code",
      "source": [
        "# This function is used to return the index of the feature name\n",
        "def get_index_from_value(feature_name, list_features ):\n",
        "  return np.where(list_features == feature_name)[0][0]"
      ],
      "metadata": {
        "id": "fIgLvarga03j"
      },
      "execution_count": 6,
      "outputs": []
    },
    {
      "cell_type": "code",
      "source": [
        "train_data = create_train_data ()\n",
        "_ , list_x_name = compute_conditional_probability(train_data)\n",
        "outlook = list_x_name [0]\n",
        "\n",
        "# Remove leading and trailing spaces from the strings\n",
        "i1 = get_index_from_value(\"Overcast\", outlook )\n",
        "i2 = get_index_from_value(\"Rain\", outlook )\n",
        "i3 = get_index_from_value(\"Sunny\", outlook )\n",
        "\n",
        "print( i1, i2, i3)"
      ],
      "metadata": {
        "colab": {
          "base_uri": "https://localhost:8080/"
        },
        "id": "c334LPaha9oF",
        "outputId": "9ea64468-bd11-4cd5-e127-9516e6e9e332"
      },
      "execution_count": 7,
      "outputs": [
        {
          "output_type": "stream",
          "name": "stdout",
          "text": [
            "0 1 2\n"
          ]
        }
      ]
    },
    {
      "cell_type": "code",
      "source": [
        "train_data = create_train_data()\n",
        "conditional_probability , list_x_name = compute_conditional_probability(train_data)\n",
        "# Compute P(\" Outlook \"=\" Sunny \"| Play Tennis \"=\" Yes \")\n",
        "# Remove leading and trailing spaces from \" Sunny \"\n",
        "x1 = get_index_from_value(\"Sunny\", list_x_name[0])\n",
        "# Access the correct element in the nested dictionary using the keys \"Sunny\" and \"yes\"\n",
        "print (\"P( ’ Outlook ’= ’ Sunny ’| Play Tennis ’= ’Yes ’) = \", np.round(conditional_probability[0][\"Sunny\"][\"yes\"],2))"
      ],
      "metadata": {
        "colab": {
          "base_uri": "https://localhost:8080/"
        },
        "id": "QJbvU4q0cgKF",
        "outputId": "d164e062-0e2d-429e-bf3b-77962b242f0f"
      },
      "execution_count": 8,
      "outputs": [
        {
          "output_type": "stream",
          "name": "stdout",
          "text": [
            "P( ’ Outlook ’= ’ Sunny ’| Play Tennis ’= ’Yes ’) =  0.17\n"
          ]
        }
      ]
    },
    {
      "cell_type": "code",
      "source": [
        "train_data = create_train_data ()\n",
        "conditional_probability, list_x_name = compute_conditional_probability (train_data )\n",
        "# Compute P(\" Outlook \"=\" Sunny \"| Play Tennis \"=\" No \")\n",
        "x1 = get_index_from_value(\"Sunny\", list_x_name[0])\n",
        "# Access the correct element in the nested dictionary using the keys \"Sunny\" and \"no\"\n",
        "print (\"P( ’ Outlook ’= ’ Sunny ’| Play Tennis ’= ’No ’) = \", np.round(conditional_probability[0][\"Sunny\"][\"no\"],2))"
      ],
      "metadata": {
        "colab": {
          "base_uri": "https://localhost:8080/"
        },
        "id": "_n9yl__VdM7E",
        "outputId": "4255f8ff-9c18-45a2-f12b-50792ae5a4e3"
      },
      "execution_count": 9,
      "outputs": [
        {
          "output_type": "stream",
          "name": "stdout",
          "text": [
            "P( ’ Outlook ’= ’ Sunny ’| Play Tennis ’= ’No ’) =  0.5\n"
          ]
        }
      ]
    },
    {
      "cell_type": "code",
      "source": [
        "# ##########################\n",
        "# Train Naive Bayes Model\n",
        "# ##########################\n",
        "def train_naive_bayes(train_data ):\n",
        "  # Step 1: Calculate Prior Probability\n",
        "  y_unique = ['no', 'yes']\n",
        "  prior_probability = compute_prior_probablity(train_data)\n",
        "  # Step 2: Calculate Conditional Probability\n",
        "  conditional_probability, list_x_name = compute_conditional_probability(train_data)\n",
        "  return prior_probability, conditional_probability, list_x_name"
      ],
      "metadata": {
        "id": "yQ6rzg7uA_yY"
      },
      "execution_count": 10,
      "outputs": []
    },
    {
      "cell_type": "code",
      "source": [
        "# ###################\n",
        "# Prediction\n",
        "# ###################\n",
        "def prediction_play_tennis (X, list_x_name, prior_probability, conditional_probability):\n",
        "  x1 = get_index_from_value(X [0], list_x_name[0])\n",
        "  x2 = get_index_from_value(X [1], list_x_name[1])\n",
        "  x3 = get_index_from_value(X [2], list_x_name[2])\n",
        "  x4 = get_index_from_value(X [3], list_x_name[3])\n",
        "\n",
        "  p0 = 0\n",
        "  p1 = 0\n",
        "  # your code here ***********************\n",
        "  p0 = prior_probability[0]\n",
        "  p1 = prior_probability[1]\n",
        "\n",
        "  if p0 > p1 :\n",
        "    y_pred =0\n",
        "  else :\n",
        "    y_pred =1\n",
        "  return y_pred\n",
        "\n",
        "X = ['Sunny','Cool', 'High', 'Strong']\n",
        "data = create_train_data ()\n",
        "prior_probability , conditional_probability, list_x_name = train_naive_bayes(data)\n",
        "pred = prediction_play_tennis (X, list_x_name, prior_probability, conditional_probability)\n",
        "\n",
        "if( pred ) :\n",
        "  print (\"Ad should go!\")\n",
        "else :\n",
        "  print (\"Ad should not go!\")"
      ],
      "metadata": {
        "colab": {
          "base_uri": "https://localhost:8080/"
        },
        "id": "fnv330rQBpD3",
        "outputId": "e8d1fce9-40c1-4d40-a188-e812aa821828"
      },
      "execution_count": 11,
      "outputs": [
        {
          "output_type": "stream",
          "name": "stdout",
          "text": [
            "Ad should go!\n"
          ]
        }
      ]
    }
  ]
}